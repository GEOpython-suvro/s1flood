{
 "cells": [
  {
   "cell_type": "markdown",
   "metadata": {},
   "source": [
    "Defining parameters\n",
    "================\n",
    "\n",
    "This notebook demonstrates how I typically define model parameters. The most critical parameter is the baseline, as this will affect all the statistics rasters produced by the algorithm. It is important to define a baseline period that reflects the conditions that are *expected* on the target date."
   ]
  },
  {
   "cell_type": "code",
   "execution_count": 1,
   "metadata": {},
   "outputs": [],
   "source": [
    "%matplotlib inline\n",
    "import pandas as pd\n",
    "from datetime import datetime\n",
    "import matplotlib.pyplot as plt\n",
    "from matplotlib.patches import Rectangle\n",
    "import re\n",
    "from datetime import timedelta\n",
    "import ee\n",
    "ee.Initialize()\n",
    "from s1flood import calc_basemean, calc_basesd, calc_zscore\n",
    "from s1flood import mapFloods, floodPalette\n",
    "import geemap\n",
    "from geemap import ee_basemaps\n",
    "from ipywidgets import Label"
   ]
  },
  {
   "cell_type": "markdown",
   "metadata": {},
   "source": [
    "Use the map below to define an point of interest. An area around this point will be used to filter the Sentinel-1 ImageCollection and to centre the maps."
   ]
  },
  {
   "cell_type": "code",
   "execution_count": 2,
   "metadata": {},
   "outputs": [
    {
     "data": {
      "application/vnd.jupyter.widget-view+json": {
       "model_id": "f6f4cadd7ba94b86b6ab149f5373ab28",
       "version_major": 2,
       "version_minor": 0
      },
      "text/plain": [
       "Label(value='')"
      ]
     },
     "metadata": {},
     "output_type": "display_data"
    },
    {
     "data": {
      "application/vnd.jupyter.widget-view+json": {
       "model_id": "26dbd2aee0cb470d9964b6e44e0e9cf3",
       "version_major": 2,
       "version_minor": 0
      },
      "text/plain": [
       "Map(center=[40, -100], controls=(ZoomControl(options=['position', 'zoom_in_text', 'zoom_in_title', 'zoom_out_t…"
      ]
     },
     "metadata": {},
     "output_type": "display_data"
    }
   ],
   "source": [
    "def parseClickedCoordinates(label):\n",
    "    coords = [float(c) for c in re.findall(r'(?:-)?[0-9]+.[0-9]+', label.value)]\n",
    "    coords.reverse()\n",
    "    return coords\n",
    "\n",
    "l = Label()\n",
    "display(l)\n",
    "def handle_interaction(**kwargs):\n",
    "    if kwargs.get('type') == 'click':\n",
    "        l.value = str(kwargs.get('coordinates'))\n",
    "\n",
    "Map = geemap.Map(basemap = ee_basemaps['Esri Satellite'])\n",
    "Map.on_interaction(handle_interaction)\n",
    "Map"
   ]
  },
  {
   "cell_type": "code",
   "execution_count": 3,
   "metadata": {},
   "outputs": [],
   "source": [
    "lon, lat = parseClickedCoordinates(l)\n",
    "w, h = 1, 1 # search window in degrees\n",
    "\n",
    "geometry = ee.Geometry.Polygon(\n",
    "        [[[lon - w, lat - h],\n",
    "          [lon - w, lat + h],\n",
    "          [lon + w, lat + h],\n",
    "          [lon + w, lat - h]]]\n",
    ")"
   ]
  },
  {
   "cell_type": "markdown",
   "metadata": {},
   "source": [
    "After clicking a location on the above map and parsing the coordinates in the cell above this one, we are now ready to set up our input Sentinel-1 collection. To do so, define your target date and the start and end of the baseline period. We might come back and change these based on our results below."
   ]
  },
  {
   "cell_type": "code",
   "execution_count": 4,
   "metadata": {},
   "outputs": [],
   "source": [
    "targdate = \"2020-03-01\"\n",
    "basestart = \"2019-09-15\"\n",
    "baseend = \"2020-02-01\"\n",
    "\n",
    "filters = [\n",
    "  ee.Filter.listContains(\"transmitterReceiverPolarisation\", \"VV\"),\n",
    "  ee.Filter.listContains(\"transmitterReceiverPolarisation\", \"VH\"),\n",
    "  ee.Filter.equals(\"instrumentMode\", \"IW\"),\n",
    "  ee.Filter.geometry(geometry),\n",
    "  ee.Filter.date('2015-01-01', ee.Date(targdate).advance(1, 'day'))\n",
    "  ]"
   ]
  },
  {
   "cell_type": "markdown",
   "metadata": {},
   "source": [
    "Now with our filters set up, we can load the Sentinel-1 ImageCollection, filter it, and compute Z-scores for further analysis. We will compute the Z-scores descending orbit only. To include both orbital directions, run `calc_zscore()` independently for each orbital direction and merge the collections before proceeding."
   ]
  },
  {
   "cell_type": "code",
   "execution_count": 5,
   "metadata": {},
   "outputs": [],
   "source": [
    "s1 = ee.ImageCollection(\"COPERNICUS/S1_GRD\").filter(filters)\n",
    "z = calc_zscore(s1, basestart, baseend, 'IW', 'DESCENDING')"
   ]
  },
  {
   "cell_type": "markdown",
   "metadata": {},
   "source": [
    "Once the Z-score map has loaded int he map below, click a location to extract its time series, which we will visualize in a minute."
   ]
  },
  {
   "cell_type": "code",
   "execution_count": 6,
   "metadata": {},
   "outputs": [
    {
     "data": {
      "application/vnd.jupyter.widget-view+json": {
       "model_id": "90ced55b4bc64b13b80f843215aa2169",
       "version_major": 2,
       "version_minor": 0
      },
      "text/plain": [
       "Map(center=[53.32196606454977, -9.043301790169826], controls=(ZoomControl(options=['position', 'zoom_in_text',…"
      ]
     },
     "metadata": {},
     "output_type": "display_data"
    }
   ],
   "source": [
    "Map = geemap.Map(basemap = geemap.ee_basemaps['Esri Satellite'])\n",
    "Map.setCenter(lon, lat, 11)\n",
    "Map.addLayer(s1.select('VV'), {'min': -25, 'max': 0}, 'VV Backscatter (dB); {0}'.format(targdate))\n",
    "zpalette = ['#b2182b','#ef8a62','#fddbc7','#f7f7f7','#d1e5f0','#67a9cf','#2166ac']\n",
    "Map.addLayer(z.select('VV'), {'min': -5, 'max': 5, 'palette': zpalette}, 'VV Z-score; {0}'.format(targdate))\n",
    "\n",
    "label = Label()\n",
    "\n",
    "def handle_interaction(**kwargs):\n",
    "    if kwargs.get('type') == 'click':\n",
    "        label.value = str(kwargs.get('coordinates'))\n",
    "        \n",
    "Map.on_interaction(handle_interaction)\n",
    "Map"
   ]
  },
  {
   "cell_type": "markdown",
   "metadata": {},
   "source": [
    "The function below will extract the backscatter and Z-score time series from our ImageCollection and save them as a pandas DataFrame"
   ]
  },
  {
   "cell_type": "code",
   "execution_count": 7,
   "metadata": {},
   "outputs": [],
   "source": [
    "def get_ts(p):\n",
    "    x = s1.filter(ee.Filter.equals('instrumentMode', 'IW')) \\\n",
    "            .sort('system:time_start') \\\n",
    "            .getRegion(p, scale = 30) \\\n",
    "            .getInfo()\n",
    "    xz = z.getRegion(p, scale = 30).getInfo()\n",
    "\n",
    "    x = x[1:]\n",
    "    xz = xz[1:]\n",
    "\n",
    "    s1df = pd.DataFrame({\n",
    "        'ID': [y[0] for y in x],\n",
    "        'VV': [y[4] for y in x],\n",
    "        'VH': [y[5] for y in x]\n",
    "    })\n",
    "\n",
    "    zdf = pd.DataFrame({\n",
    "        'ID': [y[0] for y in xz],\n",
    "        'ZVV': [y[4] for y in xz],\n",
    "        'ZVH': [y[5] for y in xz]\n",
    "    })\n",
    "\n",
    "    def get_date(f):\n",
    "        datestr = re.findall(r'[0-9]+T[0-9]+', f)[0]\n",
    "        return datetime.strptime(datestr, \"%Y%m%dT%H%M%S\")\n",
    "\n",
    "    s1df = s1df.assign(date = [get_date(i) for i in s1df['ID']])\n",
    "    zdf = zdf.assign(date = [get_date(i) for i in zdf['ID']])\n",
    "    df = s1df.merge(zdf, 'inner', on = 'date')[['date', 'VV', 'VH', 'ZVV', 'ZVH']]\n",
    "    return df"
   ]
  },
  {
   "cell_type": "code",
   "execution_count": 8,
   "metadata": {},
   "outputs": [],
   "source": [
    "coords = parseClickedCoordinates(label)\n",
    "p = ee.Geometry.Point(coords)\n",
    "df = get_ts(p).query(\"date > '2017-01-01'\") # change this date to shorten/lengthen the time series panels below"
   ]
  },
  {
   "cell_type": "markdown",
   "metadata": {},
   "source": [
    "Now we will use matplotlib to visualize the time series. The baseline period you defined above is shown as a light blue region in these time series. You can use this plot to chedck whether your baseline period is appropriate. For example, a high standard deviation within the baseline period will result in low absolute Z-scores, which may not \"dampen\" the signal during actual flood events."
   ]
  },
  {
   "cell_type": "code",
   "execution_count": 9,
   "metadata": {},
   "outputs": [
    {
     "data": {
      "text/plain": [
       "<matplotlib.lines.Line2D at 0x127badbb0>"
      ]
     },
     "execution_count": 9,
     "metadata": {},
     "output_type": "execute_result"
    },
    {
     "data": {
      "image/png": "[encoded data removed]",
      "text/plain": [
       "<Figure size 1080x432 with 2 Axes>"
      ]
     },
     "metadata": {
      "needs_background": "light"
     },
     "output_type": "display_data"
    }
   ],
   "source": [
    "fig, ax = plt.subplots(2, 1, figsize = [15, 6], sharex = True)\n",
    "df.plot(x = 'date', y = 'VV', ax = ax[0], style = 'k.')\n",
    "df.plot(x = 'date', y = 'VH', ax = ax[0], style = 'r.')\n",
    "df.plot(x = 'date', y = 'ZVV', ax = ax[1], style = 'k.')\n",
    "df.plot(x = 'date', y = 'ZVH', ax = ax[1], style = 'r.')\n",
    "\n",
    "ax[0].set_ylabel(\"$\\sigma_{0}\\;(dB)$\", fontsize = 14)\n",
    "ax[1].set_ylabel(\"$Z$\", fontsize = 14)\n",
    "\n",
    "# show baseline period\n",
    "xy0 = datetime.strptime(basestart, \"%Y-%m-%d\"), ax[0].get_ylim()[0]\n",
    "xy1 = datetime.strptime(basestart, \"%Y-%m-%d\"), ax[1].get_ylim()[0]\n",
    "w = datetime.strptime(baseend, \"%Y-%m-%d\") - datetime.strptime(basestart, \"%Y-%m-%d\")\n",
    "h0 = ax[0].get_ylim()[1] - ax[0].get_ylim()[0]\n",
    "h1 = ax[1].get_ylim()[1] - ax[1].get_ylim()[0]\n",
    "ax[0].add_patch(Rectangle(xy0, w, h0, alpha = 0.1))\n",
    "ax[1].add_patch(Rectangle(xy1, w, h1, alpha = 0.1))\n",
    "\n",
    "# show Z=0 line and an example Z-score threshold line\n",
    "ax[1].axhline(0, c = 'black', linewidth = 0.5)\n",
    "ax[1].axhline(-2.5, c = 'magenta', linestyle = '--', alpha = 0.5)"
   ]
  },
  {
   "cell_type": "markdown",
   "metadata": {},
   "source": [
    "When you are satisfied with the parameters you have chosen, run the flood mapping algorithm."
   ]
  },
  {
   "cell_type": "code",
   "execution_count": 11,
   "metadata": {},
   "outputs": [
    {
     "data": {
      "application/vnd.jupyter.widget-view+json": {
       "model_id": "861b0bfc48f84fb08ec89f8cc09c63c8",
       "version_major": 2,
       "version_minor": 0
      },
      "text/plain": [
       "Map(center=[53.32475368137881, -9.054891096508285], controls=(ZoomControl(options=['position', 'zoom_in_text',…"
      ]
     },
     "metadata": {},
     "output_type": "display_data"
    }
   ],
   "source": [
    "zvv_thd = -2.5 # VV Z-score threshold\n",
    "zvh_thd = -2.5 # VH Z-score threshold\n",
    "pin_thd = 50 # historical P(inundation) threshold (%)\n",
    "pow_thd = 90 # permanent open water threshold; historical P(open water) (%)\n",
    "\n",
    "floods = mapFloods(z.mosaic(), zvv_thd, zvh_thd, use_dswe = True, pin_thd = pin_thd, pow_thd = pow_thd)\n",
    "floods = floods.updateMask(floods.gt(0))\n",
    "Map = geemap.Map(basemap = ee_basemaps['Esri Satellite'])\n",
    "Map.addLayer(floods, {'min': 0, 'max': 20, 'palette': floodPalette}, \"Flood Map, {0}\".format(targdate))\n",
    "Map.setCenter(coords[0], coords[1], 10)\n",
    "Map"
   ]
  }
 ],
 "metadata": {
  "kernelspec": {
   "display_name": "Python 3",
   "language": "python",
   "name": "python3"
  },
  "language_info": {
   "codemirror_mode": {
    "name": "ipython",
    "version": 3
   },
   "file_extension": ".py",
   "mimetype": "text/x-python",
   "name": "python",
   "nbconvert_exporter": "python",
   "pygments_lexer": "ipython3",
   "version": "3.8.1"
  }
 },
 "nbformat": 4,
 "nbformat_minor": 4
}
