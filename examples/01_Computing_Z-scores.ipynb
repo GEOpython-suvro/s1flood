{
 "cells": [
  {
   "cell_type": "code",
   "execution_count": 1,
   "metadata": {},
   "outputs": [],
   "source": [
    "import ee\n",
    "ee.Initialize()\n",
    "from s1flood import calc_basemean, calc_basesd, calc_zscore\n",
    "import geemap"
   ]
  },
  {
   "cell_type": "code",
   "execution_count": 2,
   "metadata": {},
   "outputs": [],
   "source": [
    "geometry = ee.Geometry.Polygon(\n",
    "        [[[93.28456780903605, 24.071501387947965],\n",
    "          [93.28456780903605, 22.22296242611564],\n",
    "          [95.57521722309855, 22.22296242611564],\n",
    "          [95.57521722309855, 24.071501387947965]]]\n",
    ")"
   ]
  },
  {
   "cell_type": "code",
   "execution_count": 3,
   "metadata": {},
   "outputs": [],
   "source": [
    "targdate = \"2017-09-19\"\n",
    "\n",
    "filters = [\n",
    "  ee.Filter.listContains(\"transmitterReceiverPolarisation\", \"VV\"),\n",
    "  ee.Filter.listContains(\"transmitterReceiverPolarisation\", \"VH\"),\n",
    "  ee.Filter.equals(\"instrumentMode\", \"IW\"),\n",
    "  ee.Filter.geometry(geometry),\n",
    "  ee.Filter.date('2015-01-01', ee.Date(targdate).advance(1, 'day'))\n",
    "  ]"
   ]
  },
  {
   "cell_type": "code",
   "execution_count": 4,
   "metadata": {},
   "outputs": [],
   "source": [
    "s1 = ee.ImageCollection(\"COPERNICUS/S1_GRD\").filter(filters)"
   ]
  },
  {
   "cell_type": "code",
   "execution_count": 5,
   "metadata": {},
   "outputs": [],
   "source": [
    "basestart = \"2017-06-01\"\n",
    "baseend = \"2017-09-01\"\n",
    "\n",
    "meanvv = calc_basemean(s1, basestart, baseend, 'IW', 'DESCENDING').select('VV')\n",
    "sdvv = calc_basesd(s1, basestart, baseend, 'IW', 'DESCENDING').select('VV')\n",
    "zvv = calc_zscore(s1, basestart, baseend, 'IW', 'DESCENDING').select('VV')"
   ]
  },
  {
   "cell_type": "code",
   "execution_count": 6,
   "metadata": {},
   "outputs": [],
   "source": [
    "Map = geemap.Map()\n",
    "Map.setCenter(94.0953, 23.1513, 11)"
   ]
  },
  {
   "cell_type": "code",
   "execution_count": 7,
   "metadata": {},
   "outputs": [],
   "source": [
    "Map.addLayer(s1.select('VV'), {'min': -25, 'max': 0}, 'VV Backscatter (dB); 2017-09-19')\n",
    "Map.addLayer(meanvv, {'min': -25, 'max': 0}, 'Baseline mean VV backscatter (dB)')\n",
    "\n",
    "sdpalette = ['#ffffff','#fcbba1','#fc9272','#fb6a4a','#ef3b2c','#cb181d','#99000d']\n",
    "Map.addLayer(sdvv, {'min': 2, 'max': 6, 'palette': sdpalette}, 'Baseline s.d. VV backscatter (dB)')\n",
    "\n",
    "zpalette = ['#b2182b','#ef8a62','#fddbc7','#f7f7f7','#d1e5f0','#67a9cf','#2166ac']\n",
    "Map.addLayer(zvv, {'min': -10, 'max': 10, 'palette': zpalette}, 'VV Z-score; 2017-09-19')"
   ]
  },
  {
   "cell_type": "code",
   "execution_count": 8,
   "metadata": {},
   "outputs": [
    {
     "data": {
      "application/vnd.jupyter.widget-view+json": {
       "model_id": "a4d20937d4ad4ee4ab5cb03fc5f91437",
       "version_major": 2,
       "version_minor": 0
      },
      "text/plain": [
       "Map(center=[23.1513, 94.0953], controls=(ZoomControl(options=['position', 'zoom_in_text', 'zoom_in_title', 'zo…"
      ]
     },
     "metadata": {},
     "output_type": "display_data"
    }
   ],
   "source": [
    "Map"
   ]
  }
 ],
 "metadata": {
  "kernelspec": {
   "display_name": "Python 3",
   "language": "python",
   "name": "python3"
  },
  "language_info": {
   "codemirror_mode": {
    "name": "ipython",
    "version": 3
   },
   "file_extension": ".py",
   "mimetype": "text/x-python",
   "name": "python",
   "nbconvert_exporter": "python",
   "pygments_lexer": "ipython3",
   "version": "3.8.1"
  }
 },
 "nbformat": 4,
 "nbformat_minor": 4
}
