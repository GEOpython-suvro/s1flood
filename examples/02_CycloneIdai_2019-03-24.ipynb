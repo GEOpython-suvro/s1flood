{
 "cells": [
  {
   "cell_type": "code",
   "execution_count": 11,
   "metadata": {},
   "outputs": [],
   "source": [
    "import ee\n",
    "ee.Initialize()\n",
    "from s1flood import calc_zscore, mapFloods, floodPalette\n",
    "import geemap\n",
    "from geemap import ee_basemaps"
   ]
  },
  {
   "cell_type": "code",
   "execution_count": 2,
   "metadata": {},
   "outputs": [],
   "source": [
    "geometry = ee.Geometry.Polygon(\n",
    "        [[[33.44259958627015, -18.49604760905407],\n",
    "          [33.44259958627015, -20.664424742367366],\n",
    "          [36.43088083627015, -20.664424742367366],\n",
    "          [36.43088083627015, -18.49604760905407]]]\n",
    ")"
   ]
  },
  {
   "cell_type": "code",
   "execution_count": 3,
   "metadata": {},
   "outputs": [],
   "source": [
    "basestart = '2018-01-01'\n",
    "baseend = '20219-08-01'\n",
    "targdate = '2019-03-24'"
   ]
  },
  {
   "cell_type": "code",
   "execution_count": 4,
   "metadata": {},
   "outputs": [],
   "source": [
    "zvv_thd = -2.5\n",
    "zvh_thd = -2.5"
   ]
  },
  {
   "cell_type": "code",
   "execution_count": 5,
   "metadata": {},
   "outputs": [],
   "source": [
    "filters = [\n",
    "  ee.Filter.listContains(\"transmitterReceiverPolarisation\", \"VV\"),\n",
    "  ee.Filter.listContains(\"transmitterReceiverPolarisation\", \"VH\"),\n",
    "  ee.Filter.equals(\"instrumentMode\", \"IW\"),\n",
    "  ee.Filter.geometry(geometry),\n",
    "  ee.Filter.date('2017-01-01', ee.Date(targdate).advance(1, 'day'))\n",
    "  ]"
   ]
  },
  {
   "cell_type": "code",
   "execution_count": 6,
   "metadata": {},
   "outputs": [],
   "source": [
    "s1 = ee.ImageCollection(\"COPERNICUS/S1_GRD\").filter(filters)"
   ]
  },
  {
   "cell_type": "code",
   "execution_count": 7,
   "metadata": {},
   "outputs": [],
   "source": [
    "z_iwasc = calc_zscore(s1, basestart, baseend, 'IW', 'ASCENDING')\n",
    "z_iwdsc = calc_zscore(s1, basestart, baseend, 'IW', 'DESCENDING')\n",
    "z = ee.ImageCollection(z_iwasc.merge(z_iwdsc)).sort('system:time_start')"
   ]
  },
  {
   "cell_type": "code",
   "execution_count": 8,
   "metadata": {},
   "outputs": [
    {
     "name": "stderr",
     "output_type": "stream",
     "text": [
      "/Users/bdv/miniconda3/envs/test/lib/python3.8/site-packages/s1flood-0.0.1-py3.8.egg/s1flood/mapFloods.py:56: UserWarning: `eedswe` package is not installed. Using JRC Global Surface Water for historical inundation instead.\n"
     ]
    }
   ],
   "source": [
    "floods = mapFloods(z.mosaic(), zvv_thd, zvh_thd, use_dswe = True)\n",
    "floods = floods.updateMask(floods.gt(0))"
   ]
  },
  {
   "cell_type": "code",
   "execution_count": 14,
   "metadata": {},
   "outputs": [],
   "source": [
    "Map = geemap.Map(basemap = ee_basemaps['Esri Satellite'])\n",
    "Map.setCenter(34.87, -19.82, 10)\n",
    "Map.addLayer(floods, {'min': 0, 'max': 20, 'palette': floodPalette}, 'Flood Map')"
   ]
  },
  {
   "cell_type": "code",
   "execution_count": 15,
   "metadata": {},
   "outputs": [
    {
     "data": {
      "application/vnd.jupyter.widget-view+json": {
       "model_id": "2f22603d037848a9b87a2c0fc765c27b",
       "version_major": 2,
       "version_minor": 0
      },
      "text/plain": [
       "Map(center=[-19.82, 34.87], controls=(ZoomControl(options=['position', 'zoom_in_text', 'zoom_in_title', 'zoom_…"
      ]
     },
     "metadata": {},
     "output_type": "display_data"
    }
   ],
   "source": [
    "Map"
   ]
  },
  {
   "cell_type": "code",
   "execution_count": null,
   "metadata": {},
   "outputs": [],
   "source": []
  }
 ],
 "metadata": {
  "kernelspec": {
   "display_name": "Python 3",
   "language": "python",
   "name": "python3"
  },
  "language_info": {
   "codemirror_mode": {
    "name": "ipython",
    "version": 3
   },
   "file_extension": ".py",
   "mimetype": "text/x-python",
   "name": "python",
   "nbconvert_exporter": "python",
   "pygments_lexer": "ipython3",
   "version": "3.8.2"
  }
 },
 "nbformat": 4,
 "nbformat_minor": 4
}
